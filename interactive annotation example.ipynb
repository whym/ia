{
 "metadata": {
  "name": "",
  "signature": "sha256:06193dc37ac40ce22f64cf088b48dae9c7cfe47e085065cb0065e5bd8f54b059"
 },
 "nbformat": 3,
 "nbformat_minor": 0,
 "worksheets": [
  {
   "cells": [
    {
     "cell_type": "code",
     "collapsed": false,
     "input": [
      "import ia\n",
      "ia.Lattice(x for x in 'abc')"
     ],
     "language": "python",
     "metadata": {},
     "outputs": [
      {
       "metadata": {},
       "output_type": "pyout",
       "prompt_number": 1,
       "text": [
        "Lattice([[LNode(label='<BOS>', begin=0, end=1, children=[]), 0], [LNode(label='a', begin=1, end=2, children=[]), 0], [LNode(label='b', begin=2, end=3, children=[]), 0], [LNode(label='c', begin=3, end=4, children=[]), 0], [LNode(label='<EOS>', begin=4, end=5, children=[]), 0]])"
       ]
      }
     ],
     "prompt_number": 1
    },
    {
     "cell_type": "code",
     "collapsed": false,
     "input": [
      "x=ia.Lexicon(3, [x for x in 'abracadabra'])\n",
      "\n",
      "for k in x.most_frequent():\n",
      "    print k\n",
      "    x.add_confirmed(k)\n",
      "    break\n",
      "\n",
      "for k in x.most_frequent():\n",
      "    print k\n",
      "    x.add_confirmed(k)\n",
      "    break\n",
      "x"
     ],
     "language": "python",
     "metadata": {},
     "outputs": [
      {
       "output_type": "stream",
       "stream": "stdout",
       "text": [
        "('b', 'r', 'a')\n",
        "('a', 'b', 'r')\n"
       ]
      },
      {
       "metadata": {},
       "output_type": "pyout",
       "prompt_number": 2,
       "text": [
        "Lexicon(nsize=3, counts=Counter({('b', 'r', 'a'): 2, ('a', 'b', 'r'): 2, ('a', 'c', 'a'): 1, ('r', 'a', 'c'): 1, ('d', 'a', 'b'): 1, ('a', 'd', 'a'): 1, ('c', 'a', 'd'): 1}), scores=defaultdict(<type 'int'>, {('a', 'c', 'a'): 0, ('b', 'r', 'a'): 1, ('r', 'a', 'c'): 0, ('a', 'b', 'r'): 1, ('d', 'a', 'b'): 0, ('a', 'd', 'a'): 0, ('c', 'a', 'd'): 0}))"
       ]
      }
     ],
     "prompt_number": 2
    }
   ],
   "metadata": {}
  }
 ]
}