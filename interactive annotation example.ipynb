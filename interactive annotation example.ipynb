{
 "metadata": {
  "name": "",
  "signature": "sha256:f4e8c3d0728034ec5a953d10fe2c7330c09a0f0054c94472d070d411a1c0f191"
 },
 "nbformat": 3,
 "nbformat_minor": 0,
 "worksheets": [
  {
   "cells": [
    {
     "cell_type": "code",
     "collapsed": false,
     "input": [
      "import ia\n",
      "lattice = ia.Lattice(x for x in 'abracadabra')\n",
      "lattice"
     ],
     "language": "python",
     "metadata": {},
     "outputs": []
    },
    {
     "cell_type": "code",
     "collapsed": false,
     "input": [
      "x=ia.Lexicon(3, [x for x in 'abracadabra'])\n",
      "\n",
      "for k in x.most_frequent():\n",
      "    print k\n",
      "    x.add_confirmed(k)\n",
      "    break\n",
      "\n",
      "for k in x.most_frequent():\n",
      "    print k\n",
      "    x.add_confirmed(k)\n",
      "    break\n",
      "x"
     ],
     "language": "python",
     "metadata": {},
     "outputs": []
    },
    {
     "cell_type": "code",
     "collapsed": false,
     "input": [
      "[x for x in lattice.find_positions(['b', 'r', 'a'])]"
     ],
     "language": "python",
     "metadata": {},
     "outputs": [
      {
       "metadata": {},
       "output_type": "pyout",
       "prompt_number": 3,
       "text": [
        "[2, 9]"
       ]
      }
     ],
     "prompt_number": 3
    },
    {
     "cell_type": "code",
     "collapsed": false,
     "input": [],
     "language": "python",
     "metadata": {},
     "outputs": []
    }
   ],
   "metadata": {}
  }
 ]
}