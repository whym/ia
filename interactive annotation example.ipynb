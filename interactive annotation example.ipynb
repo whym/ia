{
 "metadata": {
  "name": "",
  "signature": "sha256:c27a4086c6deb41f00e9ba42f6be5fc6b14975ff182675b90862553a502c6f98"
 },
 "nbformat": 3,
 "nbformat_minor": 0,
 "worksheets": [
  {
   "cells": [
    {
     "cell_type": "code",
     "collapsed": false,
     "input": [
      "import ia\n",
      "lattice = ia.Lattice(x for x in 'abracadabra')\n",
      "lattice"
     ],
     "language": "python",
     "metadata": {},
     "outputs": [
      {
       "metadata": {},
       "output_type": "pyout",
       "prompt_number": 1,
       "text": [
        "Lattice([{LArc(label='<BOS>', begin=0, end=1, children=()): 0}, {LArc(label='a', begin=1, end=2, children=()): 0}, {LArc(label='b', begin=2, end=3, children=()): 0}, {LArc(label='r', begin=3, end=4, children=()): 0}, {LArc(label='a', begin=4, end=5, children=()): 0}, {LArc(label='c', begin=5, end=6, children=()): 0}, {LArc(label='a', begin=6, end=7, children=()): 0}, {LArc(label='d', begin=7, end=8, children=()): 0}, {LArc(label='a', begin=8, end=9, children=()): 0}, {LArc(label='b', begin=9, end=10, children=()): 0}, {LArc(label='r', begin=10, end=11, children=()): 0}, {LArc(label='a', begin=11, end=12, children=()): 0}, {LArc(label='<EOS>', begin=12, end=13, children=()): 0}])"
       ]
      }
     ],
     "prompt_number": 1
    },
    {
     "cell_type": "code",
     "collapsed": false,
     "input": [
      "x=ia.Lexicon(3, [x for x in 'abracadabra'])\n",
      "\n",
      "for k in x.most_frequent():\n",
      "    print k\n",
      "    x.add_confirmed(k)\n",
      "    break\n",
      "\n",
      "for k in x.most_frequent():\n",
      "    print k\n",
      "    x.add_confirmed(k)\n",
      "    break\n",
      "x"
     ],
     "language": "python",
     "metadata": {},
     "outputs": [
      {
       "output_type": "stream",
       "stream": "stdout",
       "text": [
        "('b', 'r', 'a')\n",
        "('a', 'b', 'r')\n"
       ]
      },
      {
       "metadata": {},
       "output_type": "pyout",
       "prompt_number": 2,
       "text": [
        "Lexicon(nsize=3, counts=Counter({('b', 'r', 'a'): 2, ('a', 'b', 'r'): 2, ('a', 'c', 'a'): 1, ('r', 'a', '<EOS>'): 1, ('r', 'a', 'c'): 1, ('d', 'a', 'b'): 1, ('a', 'd', 'a'): 1, ('c', 'a', 'd'): 1, ('<BOS>', 'a', 'b'): 1}), scores=defaultdict(<type 'int'>, {('a', 'c', 'a'): 0, ('r', 'a', '<EOS>'): 0, ('b', 'r', 'a'): 1, ('r', 'a', 'c'): 0, ('a', 'b', 'r'): 1, ('d', 'a', 'b'): 0, ('a', 'd', 'a'): 0, ('c', 'a', 'd'): 0, ('<BOS>', 'a', 'b'): 0}))"
       ]
      }
     ],
     "prompt_number": 2
    },
    {
     "cell_type": "code",
     "collapsed": false,
     "input": [
      "[x for x in lattice.find_positions(['b', 'r', 'a'])]"
     ],
     "language": "python",
     "metadata": {},
     "outputs": [
      {
       "metadata": {},
       "output_type": "pyout",
       "prompt_number": 3,
       "text": [
        "[2, 9]"
       ]
      }
     ],
     "prompt_number": 3
    },
    {
     "cell_type": "code",
     "collapsed": false,
     "input": [
      "import pygraphviz as pgv\n",
      "a = pgv.AGraph(string=lattice.to_dot())\n",
      "a.layout(prog='dot')\n",
      "a.draw('/tmp/test.svg')\n",
      "from IPython.display import SVG\n",
      "SVG(filename='/tmp/test.svg')"
     ],
     "language": "python",
     "metadata": {},
     "outputs": [
      {
       "metadata": {},
       "output_type": "pyout",
       "prompt_number": 4,
       "svg": [
        "<svg height=\"57pt\" viewBox=\"0.00 0.00 618.80 57.00\" width=\"619pt\" xmlns=\"http://www.w3.org/2000/svg\" xmlns:xlink=\"http://www.w3.org/1999/xlink\">\n",
        "<g class=\"graph\" id=\"graph0\" transform=\"scale(1 1) rotate(0) translate(-4 61)\">\n",
        "<title>%3</title>\n",
        "<polygon fill=\"white\" points=\"4,-4 4,-61 622.8,-61 622.8,-4 4,-4\" stroke=\"none\"/>\n",
        "<g class=\"cluster\" id=\"clust1\"><title>cluster_c11</title>\n",
        "</g>\n",
        "<!-- P_c11_0 -->\n",
        "<g class=\"node\" id=\"node1\"><title>P_c11_0</title>\n",
        "<ellipse cx=\"17.8\" cy=\"-34\" fill=\"black\" rx=\"1.8\" ry=\"1.8\" stroke=\"black\"/>\n",
        "</g>\n",
        "<!-- P_c11_1 -->\n",
        "<g class=\"node\" id=\"node2\"><title>P_c11_1</title>\n",
        "<ellipse cx=\"100.4\" cy=\"-34\" fill=\"black\" rx=\"1.8\" ry=\"1.8\" stroke=\"black\"/>\n",
        "</g>\n",
        "<!-- P_c11_0&#45;&gt;P_c11_1 -->\n",
        "<g class=\"edge\" id=\"edge1\"><title>P_c11_0-&gt;P_c11_1</title>\n",
        "<path d=\"M19.705,-34C27.938,-34 89.745,-34 98.396,-34\" fill=\"none\" stroke=\"black\" stroke-dasharray=\"1,5\"/>\n",
        "<text font-family=\"Times,serif\" font-size=\"14.00\" text-anchor=\"middle\" x=\"59.1\" y=\"-37.8\">&lt;BOS&gt;</text>\n",
        "</g>\n",
        "<!-- P_c11_2 -->\n",
        "<g class=\"node\" id=\"node3\"><title>P_c11_2</title>\n",
        "<ellipse cx=\"147\" cy=\"-34\" fill=\"black\" rx=\"1.8\" ry=\"1.8\" stroke=\"black\"/>\n",
        "</g>\n",
        "<!-- P_c11_1&#45;&gt;P_c11_2 -->\n",
        "<g class=\"edge\" id=\"edge2\"><title>P_c11_1-&gt;P_c11_2</title>\n",
        "<path d=\"M102.5,-34C108.73,-34 139.39,-34 145.09,-34\" fill=\"none\" stroke=\"black\" stroke-dasharray=\"1,5\"/>\n",
        "<text font-family=\"Times,serif\" font-size=\"14.00\" text-anchor=\"middle\" x=\"123.7\" y=\"-37.8\">a</text>\n",
        "</g>\n",
        "<!-- P_c11_3 -->\n",
        "<g class=\"node\" id=\"node4\"><title>P_c11_3</title>\n",
        "<ellipse cx=\"193.6\" cy=\"-34\" fill=\"black\" rx=\"1.8\" ry=\"1.8\" stroke=\"black\"/>\n",
        "</g>\n",
        "<!-- P_c11_2&#45;&gt;P_c11_3 -->\n",
        "<g class=\"edge\" id=\"edge3\"><title>P_c11_2-&gt;P_c11_3</title>\n",
        "<path d=\"M149.1,-34C155.33,-34 185.99,-34 191.69,-34\" fill=\"none\" stroke=\"black\" stroke-dasharray=\"1,5\"/>\n",
        "<text font-family=\"Times,serif\" font-size=\"14.00\" text-anchor=\"middle\" x=\"170.3\" y=\"-37.8\">b</text>\n",
        "</g>\n",
        "<!-- P_c11_4 -->\n",
        "<g class=\"node\" id=\"node5\"><title>P_c11_4</title>\n",
        "<ellipse cx=\"238.2\" cy=\"-34\" fill=\"black\" rx=\"1.8\" ry=\"1.8\" stroke=\"black\"/>\n",
        "</g>\n",
        "<!-- P_c11_3&#45;&gt;P_c11_4 -->\n",
        "<g class=\"edge\" id=\"edge4\"><title>P_c11_3-&gt;P_c11_4</title>\n",
        "<path d=\"M195.65,-34C201.6,-34 230.89,-34 236.33,-34\" fill=\"none\" stroke=\"black\" stroke-dasharray=\"1,5\"/>\n",
        "<text font-family=\"Times,serif\" font-size=\"14.00\" text-anchor=\"middle\" x=\"215.9\" y=\"-37.8\">r</text>\n",
        "</g>\n",
        "<!-- P_c11_5 -->\n",
        "<g class=\"node\" id=\"node6\"><title>P_c11_5</title>\n",
        "<ellipse cx=\"284.8\" cy=\"-34\" fill=\"black\" rx=\"1.8\" ry=\"1.8\" stroke=\"black\"/>\n",
        "</g>\n",
        "<!-- P_c11_4&#45;&gt;P_c11_5 -->\n",
        "<g class=\"edge\" id=\"edge5\"><title>P_c11_4-&gt;P_c11_5</title>\n",
        "<path d=\"M240.3,-34C246.53,-34 277.19,-34 282.89,-34\" fill=\"none\" stroke=\"black\" stroke-dasharray=\"1,5\"/>\n",
        "<text font-family=\"Times,serif\" font-size=\"14.00\" text-anchor=\"middle\" x=\"261.5\" y=\"-37.8\">a</text>\n",
        "</g>\n",
        "<!-- P_c11_6 -->\n",
        "<g class=\"node\" id=\"node7\"><title>P_c11_6</title>\n",
        "<ellipse cx=\"331.4\" cy=\"-34\" fill=\"black\" rx=\"1.8\" ry=\"1.8\" stroke=\"black\"/>\n",
        "</g>\n",
        "<!-- P_c11_5&#45;&gt;P_c11_6 -->\n",
        "<g class=\"edge\" id=\"edge6\"><title>P_c11_5-&gt;P_c11_6</title>\n",
        "<path d=\"M286.9,-34C293.13,-34 323.79,-34 329.49,-34\" fill=\"none\" stroke=\"black\" stroke-dasharray=\"1,5\"/>\n",
        "<text font-family=\"Times,serif\" font-size=\"14.00\" text-anchor=\"middle\" x=\"308.1\" y=\"-37.8\">c</text>\n",
        "</g>\n",
        "<!-- P_c11_7 -->\n",
        "<g class=\"node\" id=\"node8\"><title>P_c11_7</title>\n",
        "<ellipse cx=\"378\" cy=\"-34\" fill=\"black\" rx=\"1.8\" ry=\"1.8\" stroke=\"black\"/>\n",
        "</g>\n",
        "<!-- P_c11_6&#45;&gt;P_c11_7 -->\n",
        "<g class=\"edge\" id=\"edge7\"><title>P_c11_6-&gt;P_c11_7</title>\n",
        "<path d=\"M333.5,-34C339.73,-34 370.39,-34 376.09,-34\" fill=\"none\" stroke=\"black\" stroke-dasharray=\"1,5\"/>\n",
        "<text font-family=\"Times,serif\" font-size=\"14.00\" text-anchor=\"middle\" x=\"354.7\" y=\"-37.8\">a</text>\n",
        "</g>\n",
        "<!-- P_c11_8 -->\n",
        "<g class=\"node\" id=\"node9\"><title>P_c11_8</title>\n",
        "<ellipse cx=\"424.6\" cy=\"-34\" fill=\"black\" rx=\"1.8\" ry=\"1.8\" stroke=\"black\"/>\n",
        "</g>\n",
        "<!-- P_c11_7&#45;&gt;P_c11_8 -->\n",
        "<g class=\"edge\" id=\"edge8\"><title>P_c11_7-&gt;P_c11_8</title>\n",
        "<path d=\"M380.1,-34C386.33,-34 416.99,-34 422.69,-34\" fill=\"none\" stroke=\"black\" stroke-dasharray=\"1,5\"/>\n",
        "<text font-family=\"Times,serif\" font-size=\"14.00\" text-anchor=\"middle\" x=\"401.3\" y=\"-37.8\">d</text>\n",
        "</g>\n",
        "<!-- P_c11_9 -->\n",
        "<g class=\"node\" id=\"node10\"><title>P_c11_9</title>\n",
        "<ellipse cx=\"471.2\" cy=\"-34\" fill=\"black\" rx=\"1.8\" ry=\"1.8\" stroke=\"black\"/>\n",
        "</g>\n",
        "<!-- P_c11_8&#45;&gt;P_c11_9 -->\n",
        "<g class=\"edge\" id=\"edge9\"><title>P_c11_8-&gt;P_c11_9</title>\n",
        "<path d=\"M426.7,-34C432.93,-34 463.59,-34 469.29,-34\" fill=\"none\" stroke=\"black\" stroke-dasharray=\"1,5\"/>\n",
        "<text font-family=\"Times,serif\" font-size=\"14.00\" text-anchor=\"middle\" x=\"447.9\" y=\"-37.8\">a</text>\n",
        "</g>\n",
        "<!-- P_c11_10 -->\n",
        "<g class=\"node\" id=\"node11\"><title>P_c11_10</title>\n",
        "<ellipse cx=\"517.8\" cy=\"-34\" fill=\"black\" rx=\"1.8\" ry=\"1.8\" stroke=\"black\"/>\n",
        "</g>\n",
        "<!-- P_c11_9&#45;&gt;P_c11_10 -->\n",
        "<g class=\"edge\" id=\"edge10\"><title>P_c11_9-&gt;P_c11_10</title>\n",
        "<path d=\"M473.3,-34C479.53,-34 510.19,-34 515.89,-34\" fill=\"none\" stroke=\"black\" stroke-dasharray=\"1,5\"/>\n",
        "<text font-family=\"Times,serif\" font-size=\"14.00\" text-anchor=\"middle\" x=\"494.5\" y=\"-37.8\">b</text>\n",
        "</g>\n",
        "<!-- P_c11_11 -->\n",
        "<g class=\"node\" id=\"node12\"><title>P_c11_11</title>\n",
        "<ellipse cx=\"562.4\" cy=\"-34\" fill=\"black\" rx=\"1.8\" ry=\"1.8\" stroke=\"black\"/>\n",
        "</g>\n",
        "<!-- P_c11_10&#45;&gt;P_c11_11 -->\n",
        "<g class=\"edge\" id=\"edge11\"><title>P_c11_10-&gt;P_c11_11</title>\n",
        "<path d=\"M519.85,-34C525.8,-34 555.09,-34 560.53,-34\" fill=\"none\" stroke=\"black\" stroke-dasharray=\"1,5\"/>\n",
        "<text font-family=\"Times,serif\" font-size=\"14.00\" text-anchor=\"middle\" x=\"540.1\" y=\"-37.8\">r</text>\n",
        "</g>\n",
        "<!-- P_c11_12 -->\n",
        "<g class=\"node\" id=\"node13\"><title>P_c11_12</title>\n",
        "<ellipse cx=\"609\" cy=\"-34\" fill=\"black\" rx=\"1.8\" ry=\"1.8\" stroke=\"black\"/>\n",
        "</g>\n",
        "<!-- P_c11_11&#45;&gt;P_c11_12 -->\n",
        "<g class=\"edge\" id=\"edge12\"><title>P_c11_11-&gt;P_c11_12</title>\n",
        "<path d=\"M564.5,-34C570.73,-34 601.39,-34 607.09,-34\" fill=\"none\" stroke=\"black\" stroke-dasharray=\"1,5\"/>\n",
        "<text font-family=\"Times,serif\" font-size=\"14.00\" text-anchor=\"middle\" x=\"585.7\" y=\"-37.8\">a</text>\n",
        "</g>\n",
        "</g>\n",
        "</svg>"
       ],
       "text": [
        "<IPython.core.display.SVG at 0x7ffe300c0ed0>"
       ]
      }
     ],
     "prompt_number": 4
    }
   ],
   "metadata": {}
  }
 ]
}