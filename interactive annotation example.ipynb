{
 "metadata": {
  "name": "",
  "signature": "sha256:db08c955c87d74bd6426d1bf522cca7ec72bf10dad3ad665bfc70b6fe91acee2"
 },
 "nbformat": 3,
 "nbformat_minor": 0,
 "worksheets": [
  {
   "cells": [
    {
     "cell_type": "code",
     "collapsed": false,
     "input": [
      "import ia\n",
      "lattice = ia.Lattice(x for x in 'abracadabra')\n",
      "lattice"
     ],
     "language": "python",
     "metadata": {},
     "outputs": [
      {
       "metadata": {},
       "output_type": "pyout",
       "prompt_number": 1,
       "text": [
        "Lattice([{LArc(label='<BOS>', begin=0, end=1, children=()): 0}, {LArc(label='a', begin=1, end=2, children=()): 0}, {LArc(label='b', begin=2, end=3, children=()): 0}, {LArc(label='r', begin=3, end=4, children=()): 0}, {LArc(label='a', begin=4, end=5, children=()): 0}, {LArc(label='c', begin=5, end=6, children=()): 0}, {LArc(label='a', begin=6, end=7, children=()): 0}, {LArc(label='d', begin=7, end=8, children=()): 0}, {LArc(label='a', begin=8, end=9, children=()): 0}, {LArc(label='b', begin=9, end=10, children=()): 0}, {LArc(label='r', begin=10, end=11, children=()): 0}, {LArc(label='a', begin=11, end=12, children=()): 0}, {LArc(label='<EOS>', begin=12, end=12, children=()): 0}])"
       ]
      }
     ],
     "prompt_number": 1
    },
    {
     "cell_type": "code",
     "collapsed": false,
     "input": [
      "x=ia.Lexicon(3, [x for x in 'abracadabra'])\n",
      "\n",
      "for k in x.most_frequent():\n",
      "    print k\n",
      "    x.add_confirmed(k)\n",
      "    break\n",
      "\n",
      "for k in x.most_frequent():\n",
      "    print k\n",
      "    x.add_confirmed(k)\n",
      "    break\n",
      "x"
     ],
     "language": "python",
     "metadata": {},
     "outputs": [
      {
       "output_type": "stream",
       "stream": "stdout",
       "text": [
        "('b', 'r', 'a')\n",
        "('a', 'b', 'r')\n"
       ]
      },
      {
       "metadata": {},
       "output_type": "pyout",
       "prompt_number": 2,
       "text": [
        "Lexicon(nsize=3, counts=Counter({('b', 'r', 'a'): 2, ('a', 'b', 'r'): 2, ('a', 'c', 'a'): 1, ('r', 'a', '<EOS>'): 1, ('r', 'a', 'c'): 1, ('d', 'a', 'b'): 1, ('a', 'd', 'a'): 1, ('c', 'a', 'd'): 1, ('<BOS>', 'a', 'b'): 1}), scores=defaultdict(<type 'int'>, {('a', 'c', 'a'): 0, ('r', 'a', '<EOS>'): 0, ('b', 'r', 'a'): 1, ('r', 'a', 'c'): 0, ('a', 'b', 'r'): 1, ('d', 'a', 'b'): 0, ('a', 'd', 'a'): 0, ('c', 'a', 'd'): 0, ('<BOS>', 'a', 'b'): 0}))"
       ]
      }
     ],
     "prompt_number": 2
    },
    {
     "cell_type": "code",
     "collapsed": false,
     "input": [
      "[x for x in lattice.find_positions(['b', 'r', 'a'])]"
     ],
     "language": "python",
     "metadata": {},
     "outputs": [
      {
       "metadata": {},
       "output_type": "pyout",
       "prompt_number": 3,
       "text": [
        "[2, 9]"
       ]
      }
     ],
     "prompt_number": 3
    },
    {
     "cell_type": "code",
     "collapsed": false,
     "input": [
      "import pygraphviz as pgv\n",
      "a = pgv.AGraph(string=lattice.to_dot_from_span(0, min(1000, len(lattice.body))))\n",
      "a.layout(prog='dot')\n",
      "a.draw('/tmp/test.svg')\n",
      "from IPython.display import SVG\n",
      "SVG(filename='/tmp/test.svg')"
     ],
     "language": "python",
     "metadata": {},
     "outputs": [
      {
       "metadata": {},
       "output_type": "pyout",
       "prompt_number": 5,
       "svg": [
        "<svg height=\"683pt\" viewBox=\"0.00 0.00 85.00 682.80\" width=\"85pt\" xmlns=\"http://www.w3.org/2000/svg\" xmlns:xlink=\"http://www.w3.org/1999/xlink\">\n",
        "<g class=\"graph\" id=\"graph0\" transform=\"scale(1 1) rotate(0) translate(-4 686.8)\">\n",
        "<title>%3</title>\n",
        "<polygon fill=\"white\" points=\"4,-4 4,-686.8 89,-686.8 89,-4 4,-4\" stroke=\"none\"/>\n",
        "<g class=\"cluster\" id=\"clust1\"><title>cluster_body</title>\n",
        "</g>\n",
        "<!-- B_0 -->\n",
        "<g class=\"node\" id=\"node1\"><title>B_0</title>\n",
        "<ellipse cx=\"34\" cy=\"-673\" fill=\"black\" rx=\"1.8\" ry=\"1.8\" stroke=\"black\"/>\n",
        "</g>\n",
        "<!-- B_1 -->\n",
        "<g class=\"node\" id=\"node2\"><title>B_1</title>\n",
        "<ellipse cx=\"34\" cy=\"-618.4\" fill=\"black\" rx=\"1.8\" ry=\"1.8\" stroke=\"black\"/>\n",
        "</g>\n",
        "<!-- B_0&#45;&gt;B_1 -->\n",
        "<g class=\"edge\" id=\"edge1\"><title>B_0-&gt;B_1</title>\n",
        "<path d=\"M34,-671.09C34,-664.76 34,-627.45 34,-620.51\" fill=\"none\" stroke=\"black\" stroke-dasharray=\"1,5\"/>\n",
        "<text font-family=\"Times,serif\" font-size=\"14.00\" text-anchor=\"middle\" x=\"55.5\" y=\"-642\">&lt;BOS&gt;</text>\n",
        "</g>\n",
        "<!-- B_2 -->\n",
        "<g class=\"node\" id=\"node3\"><title>B_2</title>\n",
        "<ellipse cx=\"34\" cy=\"-563.8\" fill=\"black\" rx=\"1.8\" ry=\"1.8\" stroke=\"black\"/>\n",
        "</g>\n",
        "<!-- B_1&#45;&gt;B_2 -->\n",
        "<g class=\"edge\" id=\"edge2\"><title>B_1-&gt;B_2</title>\n",
        "<path d=\"M34,-616.49C34,-610.16 34,-572.85 34,-565.91\" fill=\"none\" stroke=\"black\" stroke-dasharray=\"1,5\"/>\n",
        "<text font-family=\"Times,serif\" font-size=\"14.00\" text-anchor=\"middle\" x=\"37.5\" y=\"-587.4\">a</text>\n",
        "</g>\n",
        "<!-- B_3 -->\n",
        "<g class=\"node\" id=\"node4\"><title>B_3</title>\n",
        "<ellipse cx=\"34\" cy=\"-509.2\" fill=\"black\" rx=\"1.8\" ry=\"1.8\" stroke=\"black\"/>\n",
        "</g>\n",
        "<!-- B_2&#45;&gt;B_3 -->\n",
        "<g class=\"edge\" id=\"edge3\"><title>B_2-&gt;B_3</title>\n",
        "<path d=\"M34,-561.89C34,-555.56 34,-518.25 34,-511.31\" fill=\"none\" stroke=\"black\" stroke-dasharray=\"1,5\"/>\n",
        "<text font-family=\"Times,serif\" font-size=\"14.00\" text-anchor=\"middle\" x=\"37.5\" y=\"-532.8\">b</text>\n",
        "</g>\n",
        "<!-- B_4 -->\n",
        "<g class=\"node\" id=\"node5\"><title>B_4</title>\n",
        "<ellipse cx=\"34\" cy=\"-454.6\" fill=\"black\" rx=\"1.8\" ry=\"1.8\" stroke=\"black\"/>\n",
        "</g>\n",
        "<!-- B_3&#45;&gt;B_4 -->\n",
        "<g class=\"edge\" id=\"edge4\"><title>B_3-&gt;B_4</title>\n",
        "<path d=\"M34,-507.29C34,-500.96 34,-463.65 34,-456.71\" fill=\"none\" stroke=\"black\" stroke-dasharray=\"1,5\"/>\n",
        "<text font-family=\"Times,serif\" font-size=\"14.00\" text-anchor=\"middle\" x=\"36.5\" y=\"-478.2\">r</text>\n",
        "</g>\n",
        "<!-- B_5 -->\n",
        "<g class=\"node\" id=\"node6\"><title>B_5</title>\n",
        "<ellipse cx=\"34\" cy=\"-400\" fill=\"black\" rx=\"1.8\" ry=\"1.8\" stroke=\"black\"/>\n",
        "</g>\n",
        "<!-- B_4&#45;&gt;B_5 -->\n",
        "<g class=\"edge\" id=\"edge5\"><title>B_4-&gt;B_5</title>\n",
        "<path d=\"M34,-452.69C34,-446.36 34,-409.05 34,-402.11\" fill=\"none\" stroke=\"black\" stroke-dasharray=\"1,5\"/>\n",
        "<text font-family=\"Times,serif\" font-size=\"14.00\" text-anchor=\"middle\" x=\"37.5\" y=\"-423.6\">a</text>\n",
        "</g>\n",
        "<!-- B_6 -->\n",
        "<g class=\"node\" id=\"node7\"><title>B_6</title>\n",
        "<ellipse cx=\"34\" cy=\"-345.4\" fill=\"black\" rx=\"1.8\" ry=\"1.8\" stroke=\"black\"/>\n",
        "</g>\n",
        "<!-- B_5&#45;&gt;B_6 -->\n",
        "<g class=\"edge\" id=\"edge6\"><title>B_5-&gt;B_6</title>\n",
        "<path d=\"M34,-398.09C34,-391.76 34,-354.45 34,-347.51\" fill=\"none\" stroke=\"black\" stroke-dasharray=\"1,5\"/>\n",
        "<text font-family=\"Times,serif\" font-size=\"14.00\" text-anchor=\"middle\" x=\"37.5\" y=\"-369\">c</text>\n",
        "</g>\n",
        "<!-- B_7 -->\n",
        "<g class=\"node\" id=\"node8\"><title>B_7</title>\n",
        "<ellipse cx=\"34\" cy=\"-290.8\" fill=\"black\" rx=\"1.8\" ry=\"1.8\" stroke=\"black\"/>\n",
        "</g>\n",
        "<!-- B_6&#45;&gt;B_7 -->\n",
        "<g class=\"edge\" id=\"edge7\"><title>B_6-&gt;B_7</title>\n",
        "<path d=\"M34,-343.49C34,-337.16 34,-299.85 34,-292.91\" fill=\"none\" stroke=\"black\" stroke-dasharray=\"1,5\"/>\n",
        "<text font-family=\"Times,serif\" font-size=\"14.00\" text-anchor=\"middle\" x=\"37.5\" y=\"-314.4\">a</text>\n",
        "</g>\n",
        "<!-- B_8 -->\n",
        "<g class=\"node\" id=\"node9\"><title>B_8</title>\n",
        "<ellipse cx=\"34\" cy=\"-236.2\" fill=\"black\" rx=\"1.8\" ry=\"1.8\" stroke=\"black\"/>\n",
        "</g>\n",
        "<!-- B_7&#45;&gt;B_8 -->\n",
        "<g class=\"edge\" id=\"edge8\"><title>B_7-&gt;B_8</title>\n",
        "<path d=\"M34,-288.89C34,-282.56 34,-245.25 34,-238.31\" fill=\"none\" stroke=\"black\" stroke-dasharray=\"1,5\"/>\n",
        "<text font-family=\"Times,serif\" font-size=\"14.00\" text-anchor=\"middle\" x=\"37.5\" y=\"-259.8\">d</text>\n",
        "</g>\n",
        "<!-- B_9 -->\n",
        "<g class=\"node\" id=\"node10\"><title>B_9</title>\n",
        "<ellipse cx=\"34\" cy=\"-181.6\" fill=\"black\" rx=\"1.8\" ry=\"1.8\" stroke=\"black\"/>\n",
        "</g>\n",
        "<!-- B_8&#45;&gt;B_9 -->\n",
        "<g class=\"edge\" id=\"edge9\"><title>B_8-&gt;B_9</title>\n",
        "<path d=\"M34,-234.29C34,-227.96 34,-190.65 34,-183.71\" fill=\"none\" stroke=\"black\" stroke-dasharray=\"1,5\"/>\n",
        "<text font-family=\"Times,serif\" font-size=\"14.00\" text-anchor=\"middle\" x=\"37.5\" y=\"-205.2\">a</text>\n",
        "</g>\n",
        "<!-- B_10 -->\n",
        "<g class=\"node\" id=\"node11\"><title>B_10</title>\n",
        "<ellipse cx=\"34\" cy=\"-127\" fill=\"black\" rx=\"1.8\" ry=\"1.8\" stroke=\"black\"/>\n",
        "</g>\n",
        "<!-- B_9&#45;&gt;B_10 -->\n",
        "<g class=\"edge\" id=\"edge10\"><title>B_9-&gt;B_10</title>\n",
        "<path d=\"M34,-179.69C34,-173.36 34,-136.05 34,-129.11\" fill=\"none\" stroke=\"black\" stroke-dasharray=\"1,5\"/>\n",
        "<text font-family=\"Times,serif\" font-size=\"14.00\" text-anchor=\"middle\" x=\"37.5\" y=\"-150.6\">b</text>\n",
        "</g>\n",
        "<!-- B_11 -->\n",
        "<g class=\"node\" id=\"node12\"><title>B_11</title>\n",
        "<ellipse cx=\"34\" cy=\"-72.4\" fill=\"black\" rx=\"1.8\" ry=\"1.8\" stroke=\"black\"/>\n",
        "</g>\n",
        "<!-- B_10&#45;&gt;B_11 -->\n",
        "<g class=\"edge\" id=\"edge11\"><title>B_10-&gt;B_11</title>\n",
        "<path d=\"M34,-125.09C34,-118.76 34,-81.45 34,-74.511\" fill=\"none\" stroke=\"black\" stroke-dasharray=\"1,5\"/>\n",
        "<text font-family=\"Times,serif\" font-size=\"14.00\" text-anchor=\"middle\" x=\"36.5\" y=\"-96\">r</text>\n",
        "</g>\n",
        "<!-- B_12 -->\n",
        "<g class=\"node\" id=\"node13\"><title>B_12</title>\n",
        "<ellipse cx=\"34\" cy=\"-17.8\" fill=\"black\" rx=\"1.8\" ry=\"1.8\" stroke=\"black\"/>\n",
        "</g>\n",
        "<!-- B_11&#45;&gt;B_12 -->\n",
        "<g class=\"edge\" id=\"edge12\"><title>B_11-&gt;B_12</title>\n",
        "<path d=\"M34,-70.487C34,-64.157 34,-26.85 34,-19.911\" fill=\"none\" stroke=\"black\" stroke-dasharray=\"1,5\"/>\n",
        "<text font-family=\"Times,serif\" font-size=\"14.00\" text-anchor=\"middle\" x=\"37.5\" y=\"-41.4\">a</text>\n",
        "</g>\n",
        "</g>\n",
        "</svg>"
       ],
       "text": [
        "<IPython.core.display.SVG at 0x7f10205fc890>"
       ]
      }
     ],
     "prompt_number": 5
    }
   ],
   "metadata": {}
  }
 ]
}