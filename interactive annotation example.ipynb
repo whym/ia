{
 "metadata": {
  "name": "",
  "signature": "sha256:e2356a3158192fcc124e0d245fcd47144d4c9c2ca1a9b76fc57cac3b34798eba"
 },
 "nbformat": 3,
 "nbformat_minor": 0,
 "worksheets": [
  {
   "cells": [
    {
     "cell_type": "code",
     "collapsed": false,
     "input": [
      "import ia\n",
      "lattice = ia.Lattice(x for x in 'abracadabra')\n",
      "lattice"
     ],
     "language": "python",
     "metadata": {},
     "outputs": [
      {
       "metadata": {},
       "output_type": "pyout",
       "prompt_number": 2,
       "text": [
        "Lattice([{LNode(label='<BOS>', begin=0, end=1, children=()): 0}, {LNode(label='a', begin=1, end=2, children=()): 0}, {LNode(label='b', begin=2, end=3, children=()): 0}, {LNode(label='r', begin=3, end=4, children=()): 0}, {LNode(label='a', begin=4, end=5, children=()): 0}, {LNode(label='c', begin=5, end=6, children=()): 0}, {LNode(label='a', begin=6, end=7, children=()): 0}, {LNode(label='d', begin=7, end=8, children=()): 0}, {LNode(label='a', begin=8, end=9, children=()): 0}, {LNode(label='b', begin=9, end=10, children=()): 0}, {LNode(label='r', begin=10, end=11, children=()): 0}, {LNode(label='a', begin=11, end=12, children=()): 0}, {LNode(label='<EOS>', begin=12, end=13, children=()): 0}])"
       ]
      }
     ],
     "prompt_number": 2
    },
    {
     "cell_type": "code",
     "collapsed": false,
     "input": [
      "x=ia.Lexicon(3, [x for x in 'abracadabra'])\n",
      "\n",
      "for k in x.most_frequent():\n",
      "    print k\n",
      "    x.add_confirmed(k)\n",
      "    break\n",
      "\n",
      "for k in x.most_frequent():\n",
      "    print k\n",
      "    x.add_confirmed(k)\n",
      "    break\n",
      "x"
     ],
     "language": "python",
     "metadata": {},
     "outputs": [
      {
       "output_type": "stream",
       "stream": "stdout",
       "text": [
        "('b', 'r', 'a')\n",
        "('a', 'b', 'r')\n"
       ]
      },
      {
       "metadata": {},
       "output_type": "pyout",
       "prompt_number": 3,
       "text": [
        "Lexicon(nsize=3, counts=Counter({('b', 'r', 'a'): 2, ('a', 'b', 'r'): 2, ('a', 'c', 'a'): 1, ('r', 'a', 'c'): 1, ('d', 'a', 'b'): 1, ('a', 'd', 'a'): 1, ('c', 'a', 'd'): 1}), scores=defaultdict(<type 'int'>, {('a', 'c', 'a'): 0, ('b', 'r', 'a'): 1, ('r', 'a', 'c'): 0, ('a', 'b', 'r'): 1, ('d', 'a', 'b'): 0, ('a', 'd', 'a'): 0, ('c', 'a', 'd'): 0}))"
       ]
      }
     ],
     "prompt_number": 3
    },
    {
     "cell_type": "code",
     "collapsed": false,
     "input": [
      "[x for x in lattice.find_positions(['b', 'r', 'a'])]"
     ],
     "language": "python",
     "metadata": {},
     "outputs": [
      {
       "metadata": {},
       "output_type": "pyout",
       "prompt_number": 4,
       "text": [
        "[2, 9]"
       ]
      }
     ],
     "prompt_number": 4
    },
    {
     "cell_type": "code",
     "collapsed": false,
     "input": [],
     "language": "python",
     "metadata": {},
     "outputs": [],
     "prompt_number": 1
    },
    {
     "cell_type": "code",
     "collapsed": false,
     "input": [],
     "language": "python",
     "metadata": {},
     "outputs": [],
     "prompt_number": 1
    },
    {
     "cell_type": "code",
     "collapsed": false,
     "input": [],
     "language": "python",
     "metadata": {},
     "outputs": []
    }
   ],
   "metadata": {}
  }
 ]
}